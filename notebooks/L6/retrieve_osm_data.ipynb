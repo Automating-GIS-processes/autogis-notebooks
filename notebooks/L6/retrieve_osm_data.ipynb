{
 "cells": [
  {
   "cell_type": "markdown",
   "metadata": {},
   "source": [
    "# Retrieving OpenStreetMap data\n",
    "\n",
    "![](img/OSM_logo.png)\n",
    "\n",
    "## What is OpenStreetMap?\n",
    "\n",
    "OpenStreetMap (OSM) is a global collaborative (crowd-sourced) dataset and project that aims at creating a free editable map of the world containing a lot of information about our environment.\n",
    "It contains data for example about streets, buildings, different services, and landuse to mention a few.\n",
    "\n",
    "OSM has a large userbase with more than 4 million users and over a million contributers that update actively the OSM database with 3 million changesets per day. In total OSM contains more than 4 billion nodes that form the basis of the digitally mapped world that OSM provides ([stats from November 2017](http://wiki.openstreetmap.org/wiki/Stats)).\n",
    "\n",
    "OpenStreetMap is used not only for integrating the **OSM maps** as background maps to visualizations or online maps, but also for many other purposes such as **routing**, **geocoding**, **education**, and **research**. OSM is also widely used for humanitarian response e.g. in crisis areas (e.g. after natural disasters) and for fostering economic development (see more from [Humanitarian OpenStreetMap Team (HOTOSM) website](https://www.hotosm.org)).\n"
   ]
  },
  {
   "cell_type": "markdown",
   "metadata": {},
   "source": [
    "## OSMnx\n",
    "\n",
    "This week we will explore a Python module called [OSMnx](https://github.com/gboeing/osmnx)\n",
    "that can be used to retrieve, construct, analyze, and visualize street networks from OpenStreetMap, and also retrieve data about Points of Interest such as restaurants, schools, and lots of different kind of services. It is also easy to conduct network routing based on walking, cycling or driving by combining OSMnx functionalities with a package called [NetworkX](https://networkx.github.io/documentation/stable/).\n",
    "\n",
    "To get an overview of the capabilities of the package, see an introductory video given by the lead developer of the package, Prof. Geoff Boeing: [\"Meet the developer: Introduction to OSMnx package by Geoff Boeing\"](https://www.youtube.com/watch?v=Q0uxu25ddc4&list=PLs9D4XVqc6dCAhhvhZB7aHGD8fCeCC_6N).\n",
    "\n",
    "There is also a scientific article available describing the package:\n",
    "\n",
    "- Boeing, G. 2017. [\"OSMnx: New Methods for Acquiring, Constructing, Analyzing, and Visualizing Complex Street Networks.\"](https://www.researchgate.net/publication/309738462_OSMnx_New_Methods_for_Acquiring_Constructing_Analyzing_and_Visualizing_Complex_Street_Networks) Computers, Environment and Urban Systems 65, 126-139. doi:10.1016/j.compenvurbsys.2017.05.004"
   ]
  },
  {
   "cell_type": "markdown",
   "metadata": {},
   "source": [
    "## Download and visualize OpenStreetMap data with OSMnx\n",
    "\n",
    "One the most useful features that OSMnx provides is an easy-to-use way of retrieving [OpenStreetMap](http://www.openstreetmap.org) data (using [OverPass API](http://wiki.openstreetmap.org/wiki/Overpass_API)).\n",
    "\n",
    "In this tutorial, we will learn how to download and visualize OSM data covering a specified area of interest: a district of Kamppi in Helsinki, Finland.\n",
    "\n",
    "OSMnx makes it really easy to do that as it allows you to specify an address to retrieve the OpenStreetMap data around that area. In fact, OSMnx uses the same Nominatim Geocoding API to do this, which we tested during the Lesson 2.\n",
    "\n",
    "- Let's retrieve OpenStreetMap (OSM) data by specifying ``\"Kamppi, Helsinki, Finland\"`` as the address where the data should be downloaded.\n"
   ]
  },
  {
   "cell_type": "code",
   "execution_count": null,
   "metadata": {},
   "outputs": [],
   "source": []
  },
  {
   "cell_type": "markdown",
   "metadata": {},
   "source": [
    "Okey, as we can see the data that we retrieved is a special data object called `networkx.classes.multidigraph.MultiDiGraph`. A DiGraph is a data type that stores nodes and edges with optional data, or attributes. What we can see here is that this data type belongs to a Python module called [networkx](https://networkx.github.io/documentation/stable/) that can be used to create, manipulate, and study the structure, dynamics, and functions of complex networks. Networkx module contains algorithms that can be used to calculate [shortest paths](https://networkx.github.io/documentation/networkx-1.10/reference/algorithms.shortest_paths.html)\n",
    "along road networks using e.g. [Dijkstra's](https://en.wikipedia.org/wiki/Dijkstra%27s_algorithm) or [A\\* algorithm](https://en.wikipedia.org/wiki/A*_search_algorithm).\n",
    "\n",
    "- Let's see how our street network looks like. It is easy to visualize the graph with osmnx with `plot_graph()` function. The function utilizes Matplotlib for visualizing the data,\n",
    "hence as a result it returns a matplotlib figure and axis objects:\n"
   ]
  },
  {
   "cell_type": "code",
   "execution_count": null,
   "metadata": {},
   "outputs": [],
   "source": []
  },
  {
   "cell_type": "markdown",
   "metadata": {},
   "source": [
    "Great! Now we can see that our graph contains the nodes (blue circles) and the edges (gray lines) that connects those nodes to each other.\n",
    "\n",
    "It is also possible to retrieve other types of OSM data features with osmnx such as buildings or points of interest (POIs).\n",
    "\n",
    "- Let's download the buildings with `buildings_from_place()` -function and plot them on top of our street network in Kamppi. Let's also plot the Polygon that represents the area of Kamppi, Helsinki that can be retrieved with `gdf_from_place` -function.\n"
   ]
  },
  {
   "cell_type": "code",
   "execution_count": null,
   "metadata": {},
   "outputs": [],
   "source": []
  },
  {
   "cell_type": "markdown",
   "metadata": {},
   "source": [
    "As a result we got the data as GeoDataFrames. \n",
    "\n",
    "OSMnx has a nice function called `ox.pois_from_place()` that can be used in a similar manner as the previous function to retrieve specific POI data from OpenStreetMap such as `restaurants`. With parameter `amenities` we can pass a list of OSM amenity categories that we are interested in retrieving. \n",
    "\n",
    "- Let's also retrieve restaurants that are located on the area:"
   ]
  },
  {
   "cell_type": "code",
   "execution_count": null,
   "metadata": {},
   "outputs": [],
   "source": []
  },
  {
   "cell_type": "markdown",
   "metadata": {},
   "source": [
    "As we can see, there exist quite many restaurants in the area.\n",
    "\n",
    "- Let's explore what kind of attributes we have in our restaurants GeoDataFrame"
   ]
  },
  {
   "cell_type": "code",
   "execution_count": null,
   "metadata": {},
   "outputs": [],
   "source": []
  },
  {
   "cell_type": "markdown",
   "metadata": {},
   "source": [
    "Wow, there exists quite a lot of information related to the POIs. One of the useful ones might be for example the `name`, `address information` and `opening_hours` information:"
   ]
  },
  {
   "cell_type": "code",
   "execution_count": null,
   "metadata": {},
   "outputs": [],
   "source": []
  },
  {
   "cell_type": "markdown",
   "metadata": {},
   "source": [
    "As we can see, there exists a lot of useful information about restaurants that can be retrieved easily with OSMnx. \n",
    "\n",
    "We can now plot all these different OSM layers by using the familiar `plot()` function of Geopandas. As you might remember, the street network data was not in GeoDataFrame format (it was networkx.MultiDiGraph). Luckily, osmnx provides a convenient function `graph_to_gdfs()` that can convert the graph into two separate GeoDataFrames where the first one contains the information about the nodes and the second one about the edge.\n",
    "\n",
    "- Let's extract the nodes and edges from the graph as GeoDataFrames:"
   ]
  },
  {
   "cell_type": "code",
   "execution_count": null,
   "metadata": {},
   "outputs": [],
   "source": []
  },
  {
   "cell_type": "markdown",
   "metadata": {},
   "source": [
    "Nice! Now, as we can see, we have our graph as GeoDataFrames and we can plot them using the same functions and tools as we have used before.\n",
    "\n",
    "**Note:** There are also other ways of retrieving the data from OpenStreetMap with osmnx such as passing a Polygon to extract the data from that area, or passing a Point coordinates and retrieving data around that location with specific radius. Take a look of this [tutorial to find out how to use those features of osmnx](https://github.com/gboeing/osmnx-examples/blob/master/notebooks/01-overview-osmnx.ipynb)."
   ]
  },
  {
   "cell_type": "markdown",
   "metadata": {},
   "source": [
    "- Let's create a map out of the streets, buildings, restaurants, and the area Polygon but let's exclude the nodes (to keep the figure clearer)."
   ]
  },
  {
   "cell_type": "code",
   "execution_count": null,
   "metadata": {},
   "outputs": [],
   "source": []
  },
  {
   "cell_type": "markdown",
   "metadata": {},
   "source": [
    "Cool! Now we have a map where we have plotted the restaurants, buildings, streets and the boundaries of the selected region of 'Kamppi' in Helsinki. And all of this required only a few lines of code. Pretty neat! \n"
   ]
  }
 ],
 "metadata": {
  "kernelspec": {
   "display_name": "Python gis",
   "language": "python",
   "name": "gis"
  },
  "language_info": {
   "codemirror_mode": {
    "name": "ipython",
    "version": 3
   },
   "file_extension": ".py",
   "mimetype": "text/x-python",
   "name": "python",
   "nbconvert_exporter": "python",
   "pygments_lexer": "ipython3",
   "version": "3.5.0"
  }
 },
 "nbformat": 4,
 "nbformat_minor": 2
}
