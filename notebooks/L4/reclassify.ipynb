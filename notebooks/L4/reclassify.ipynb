{
 "cells": [
  {
   "cell_type": "markdown",
   "metadata": {},
   "source": [
    "# Data reclassification\n",
    "\n",
    "Reclassifying data based on specific criteria is a common task when doing GIS analysis. The purpose of this lesson is to see how we can reclassify values based on some criteria which can be whatever, such as:\n",
    "\n",
    "```\n",
    "1. if travel time to my work is less than 30 minutes\n",
    "\n",
    "    AND\n",
    "\n",
    "    2. the rent of the apartment is less than 1000 € per month\n",
    "\n",
    "    ------------------------------------------------------\n",
    "\n",
    "    IF TRUE: ==> I go to view it and try to rent the apartment\n",
    "    IF NOT TRUE: ==> I continue looking for something else\n",
    "```\n",
    "\n",
    "In this tutorial, we will use Travel Time Matrix data from Helsinki to classify some features of the data based on map classifiers that are commonly used e.g. when doing visualizations, and our own self-made classifier where we determine how the data should be classified.\n",
    "\n",
    "1. use ready made classifiers from pysal -module to classify travel times into multiple classes.\n",
    "\n",
    "2. use travel times and distances to find out\n",
    "\n",
    "   - good locations to buy an apartment with good public transport accessibility to city center\n",
    "   - but from a bit further away from city center where the prices are presumably lower.\n",
    "\n",
    "*Note, during this intensive course we won't be using the Corine2012 data.*\n",
    "\n",
    "## Classifying data\n",
    "\n",
    "### Classification based on common classifiers\n",
    "\n",
    "[Pysal](http://pysal.readthedocs.io/en/latest) -module is an extensive Python library including various functions and tools to do spatial data analysis. It also includes all of the most common data classifiers that are used commonly e.g. when visualizing data. Available map classifiers in pysal -module are ([see here for more details](http://pysal.readthedocs.io/en/latest/library/esda/mapclassify.html)):\n",
    "\n",
    " - Box_Plot\n",
    " - Equal_Interval\n",
    " - Fisher_Jenks\n",
    " - Fisher_Jenks_Sampled\n",
    " - HeadTail_Breaks\n",
    " - Jenks_Caspall\n",
    " - Jenks_Caspall_Forced\n",
    " - Jenks_Caspall_Sampled\n",
    " - Max_P_Classifier\n",
    " - Maximum_Breaks\n",
    " - Natural_Breaks\n",
    " - Quantiles\n",
    " - Percentiles\n",
    " - Std_Mean\n",
    " - User_Defined\n",
    "\n",
    "- First, we need to read our Travel Time data from Helsinki into memory from a GeoJSON file."
   ]
  },
  {
   "cell_type": "code",
   "execution_count": null,
   "metadata": {},
   "outputs": [],
   "source": []
  },
  {
   "cell_type": "markdown",
   "metadata": {},
   "source": [
    "As we can see, there exist plenty of different variables (see [from here the description](http://blogs.helsinki.fi/accessibility/helsinki-region-travel-time-matrix-2015) for all attributes) but what we are interested in are columns called `pt_r_tt` which is telling the time in minutes that it takes to reach city center from different parts of the city, and `walk_d` that tells the network distance by roads to reach city center from different parts of the city (almost equal to Euclidian distance).\n",
    "\n",
    "**The NoData values are presented with value -1**. \n",
    "\n",
    "- Thus we need to remove the No Data values first.\n"
   ]
  },
  {
   "cell_type": "code",
   "execution_count": null,
   "metadata": {},
   "outputs": [],
   "source": []
  },
  {
   "cell_type": "markdown",
   "metadata": {},
   "source": [
    "- Let's plot the data and see how it looks like."
   ]
  },
  {
   "cell_type": "code",
   "execution_count": null,
   "metadata": {},
   "outputs": [],
   "source": []
  },
  {
   "cell_type": "markdown",
   "metadata": {},
   "source": [
    "As we can see from this map, the travel times are lower in the south where the city center is located but there are some areas of \"good\" accessibility also in some other areas (where the color is red).\n",
    "\n",
    "- Let's also make a plot about walking distances:"
   ]
  },
  {
   "cell_type": "code",
   "execution_count": null,
   "metadata": {},
   "outputs": [],
   "source": []
  },
  {
   "cell_type": "markdown",
   "metadata": {},
   "source": [
    "Okay, from here we can see that the walking distances (along road network) reminds more or less Euclidian distances.\n",
    "\n",
    "- Let's apply one of the `Pysal` classifiers into our data and classify the travel times by public transport into 9 classes\n",
    "- The classifier needs to be initialized first with `make()` function that takes the number of desired classes as input parameter\n"
   ]
  },
  {
   "cell_type": "code",
   "execution_count": null,
   "metadata": {},
   "outputs": [],
   "source": []
  },
  {
   "cell_type": "markdown",
   "metadata": {},
   "source": [
    "- Now we can apply that classifier into our data by using `apply` -function"
   ]
  },
  {
   "cell_type": "code",
   "execution_count": null,
   "metadata": {},
   "outputs": [],
   "source": []
  },
  {
   "cell_type": "markdown",
   "metadata": {},
   "source": [
    "Okay, so now we have a DataFrame where our input column was classified into 9 different classes (numbers 1-9) based on [Natural Breaks classification](http://wiki-1-1930356585.us-east-1.elb.amazonaws.com/wiki/index.php/Jenks_Natural_Breaks_Classification).\n",
    "\n",
    "- Now we want to join that reclassification into our original data but let's first rename the column so that we recognize it later on:\n"
   ]
  },
  {
   "cell_type": "code",
   "execution_count": null,
   "metadata": {},
   "outputs": [],
   "source": []
  },
  {
   "cell_type": "markdown",
   "metadata": {},
   "source": [
    "Great, now we have those values in our accessibility GeoDataFrame. Let's visualize the results and see how they look."
   ]
  },
  {
   "cell_type": "code",
   "execution_count": null,
   "metadata": {},
   "outputs": [],
   "source": []
  },
  {
   "cell_type": "markdown",
   "metadata": {},
   "source": [
    "And here we go, now we have a map where we have used one of the common classifiers to classify our data into 9 classes."
   ]
  },
  {
   "cell_type": "markdown",
   "metadata": {},
   "source": [
    "### Creating a custom classifier\n",
    "\n",
    "**Multicriteria data classification**\n",
    "\n",
    "Let's create a function where we classify the geometries into two classes based on a given `threshold` -parameter. If the area of a polygon is lower than the threshold value (average size of the lake), the output column will get a value 0, if it is larger, it will get a value 1. This kind of classification is often called a [binary classification](https://en.wikipedia.org/wiki/Binary_classification).\n",
    "\n",
    "First we need to create a function for our classification task. This function takes a single row of the GeoDataFrame as input, plus few other parameters that we can use.\n",
    "\n",
    "It also possible to do classifiers with multiple criteria easily in Pandas/Geopandas by extending the example that we started earlier. Now we will modify our binaryClassifier function a bit so that it classifies the data based on two columns.\n",
    "\n",
    "- Let's call it `custom_classifier` that takes into account two criteria:\n"
   ]
  },
  {
   "cell_type": "code",
   "execution_count": null,
   "metadata": {},
   "outputs": [],
   "source": []
  },
  {
   "cell_type": "markdown",
   "metadata": {},
   "source": [
    "Now we have defined the function, and we can start using it.\n",
    "\n",
    "- Let's do our classification based on two criteria and find out grid cells where the **travel time is lower or equal to 20 minutes** but they are further away **than 4 km (4000 meters) from city center**.\n",
    "\n",
    "- Let's create an empty column for our classification results called `\"suitable_area\"`.\n"
   ]
  },
  {
   "cell_type": "code",
   "execution_count": null,
   "metadata": {},
   "outputs": [],
   "source": []
  },
  {
   "cell_type": "markdown",
   "metadata": {},
   "source": [
    "Okey we have new values in `suitable_area` -column.\n",
    "\n",
    "- How many Polygons are suitable for us? Let's find out by using a Pandas function called `value_counts()` that return the count of different values in our column.\n"
   ]
  },
  {
   "cell_type": "code",
   "execution_count": null,
   "metadata": {},
   "outputs": [],
   "source": []
  },
  {
   "cell_type": "markdown",
   "metadata": {},
   "source": [
    "Okay, so there seems to be nine suitable locations for us where we can try to find an appartment to buy.\n",
    "\n",
    "- Let's see where they are located:\n"
   ]
  },
  {
   "cell_type": "code",
   "execution_count": null,
   "metadata": {},
   "outputs": [],
   "source": []
  },
  {
   "cell_type": "markdown",
   "metadata": {},
   "source": [
    "A-haa, okay so we can see that suitable places for us with our criteria seem to be located in the\n",
    "eastern part from the city center. Actually, those locations are along the metro line which makes them good locations in terms of travel time to city center since metro is really fast travel mode.\n"
   ]
  }
 ],
 "metadata": {
  "kernelspec": {
   "display_name": "Python 3",
   "language": "python",
   "name": "python3"
  },
  "language_info": {
   "codemirror_mode": {
    "name": "ipython",
    "version": 3
   },
   "file_extension": ".py",
   "mimetype": "text/x-python",
   "name": "python",
   "nbconvert_exporter": "python",
   "pygments_lexer": "ipython3",
   "version": "3.6.0"
  }
 },
 "nbformat": 4,
 "nbformat_minor": 2
}
